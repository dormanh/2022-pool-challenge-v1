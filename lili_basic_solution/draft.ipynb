{
 "cells": [
  {
   "cell_type": "code",
   "execution_count": null,
   "id": "77295dd0",
   "metadata": {},
   "outputs": [],
   "source": [
    "# !inv get-test-pack"
   ]
  },
  {
   "cell_type": "code",
   "execution_count": 21,
   "id": "c0b4b940",
   "metadata": {},
   "outputs": [],
   "source": [
    "# get black jupyter extension!!!!\n",
    "# get black !!!"
   ]
  },
  {
   "cell_type": "code",
   "execution_count": 3,
   "id": "35aef1c8",
   "metadata": {},
   "outputs": [],
   "source": [
    "from pathlib import Path\n",
    "import json\n",
    "\n",
    "import pandas as pd\n",
    "\n",
    "df = pd.read_csv(\"data.csv\")\n",
    "\n",
    "input_locations = json.loads(Path(\"input.json\").read_text())\n",
    "\n",
    "def get_distance(row, query):\n",
    "    keys = [f\"{ax}_position\" for ax in [\"x\", \"y\", \"z\"]]\n",
    "    return sum([(row[k] - query[k]) ** 2 for k in keys]) ** 0.5\n",
    "\n",
    "fkeys = [\"msec\", \"subject\", \"trial\"]\n",
    "\n",
    "out = []\n",
    "for input_place in input_locations:\n",
    "    min_dist = float(\"inf\")\n",
    "    closest = {}\n",
    "    for ind, row in df.loc[df[\"keycode\"] == \"p\", :].iterrows():\n",
    "        distance = get_distance(row, input_place)\n",
    "        if distance < min_dist:\n",
    "            min_dist = distance\n",
    "            closest = row[fkeys].to_dict()\n",
    "    out.append(closest)"
   ]
  },
  {
   "cell_type": "code",
   "execution_count": 24,
   "id": "ea241a07",
   "metadata": {},
   "outputs": [
    {
     "data": {
      "text/plain": [
       "518"
      ]
     },
     "execution_count": 24,
     "metadata": {},
     "output_type": "execute_result"
    }
   ],
   "source": [
    "Path(\"output.json\").write_text(json.dumps(out))"
   ]
  },
  {
   "cell_type": "code",
   "execution_count": 23,
   "id": "44f226ac",
   "metadata": {},
   "outputs": [
    {
     "data": {
      "text/plain": [
       "[{'msec': 1722, 'subject': 'subject_1', 'trial': 2},\n",
       " {'msec': 2961, 'subject': 'subject_2', 'trial': 2},\n",
       " {'msec': 406, 'subject': 'subject_1', 'trial': 2},\n",
       " {'msec': 1925, 'subject': 'subject_3', 'trial': 4},\n",
       " {'msec': 1631, 'subject': 'subject_2', 'trial': 2},\n",
       " {'msec': 2765, 'subject': 'subject_2', 'trial': 1},\n",
       " {'msec': 2870, 'subject': 'subject_3', 'trial': 2},\n",
       " {'msec': 1057, 'subject': 'subject_2', 'trial': 2},\n",
       " {'msec': 455, 'subject': 'subject_1', 'trial': 4},\n",
       " {'msec': 3080, 'subject': 'subject_1', 'trial': 4}]"
      ]
     },
     "execution_count": 23,
     "metadata": {},
     "output_type": "execute_result"
    }
   ],
   "source": [
    "out"
   ]
  },
  {
   "cell_type": "code",
   "execution_count": 17,
   "id": "7b7ac683",
   "metadata": {},
   "outputs": [
    {
     "data": {
      "text/plain": [
       "[{'msec': 1722, 'subject': 'subject_1', 'trial': 2},\n",
       " {'msec': 2961, 'subject': 'subject_2', 'trial': 2},\n",
       " {'msec': 406, 'subject': 'subject_1', 'trial': 2},\n",
       " {'msec': 1925, 'subject': 'subject_3', 'trial': 4},\n",
       " {'msec': 1631, 'subject': 'subject_2', 'trial': 2},\n",
       " {'msec': 2765, 'subject': 'subject_2', 'trial': 1},\n",
       " {'msec': 2870, 'subject': 'subject_3', 'trial': 2},\n",
       " {'msec': 1057, 'subject': 'subject_2', 'trial': 2},\n",
       " {'msec': 455, 'subject': 'subject_1', 'trial': 4},\n",
       " {'msec': 3080, 'subject': 'subject_1', 'trial': 4}]"
      ]
     },
     "execution_count": 17,
     "metadata": {},
     "output_type": "execute_result"
    }
   ],
   "source": [
    "json.loads(Path(\"results.json\").read_text())"
   ]
  },
  {
   "cell_type": "code",
   "execution_count": 7,
   "id": "9b28fa60",
   "metadata": {},
   "outputs": [
    {
     "data": {
      "text/plain": [
       "[{'x_position': 340.754, 'y_position': 117.674, 'z_position': 13.695},\n",
       " {'x_position': 333.215, 'y_position': 177.257, 'z_position': 32.056},\n",
       " {'x_position': 343.816, 'y_position': 96.273, 'z_position': 21.814},\n",
       " {'x_position': 214.679, 'y_position': 84.903, 'z_position': 40.435},\n",
       " {'x_position': 329.279, 'y_position': 177.321, 'z_position': 41.829},\n",
       " {'x_position': 32.476, 'y_position': 129.913, 'z_position': 31.3},\n",
       " {'x_position': 270.938, 'y_position': 134.532, 'z_position': 11.027},\n",
       " {'x_position': 328.699, 'y_position': 171.663, 'z_position': 44.101},\n",
       " {'x_position': 304.711, 'y_position': 62.051, 'z_position': 15.118},\n",
       " {'x_position': 306.536, 'y_position': 102.534, 'z_position': 0.0}]"
      ]
     },
     "execution_count": 7,
     "metadata": {},
     "output_type": "execute_result"
    }
   ],
   "source": [
    "input_locations"
   ]
  }
 ],
 "metadata": {
  "kernelspec": {
   "display_name": "Python 3 (ipykernel)",
   "language": "python",
   "name": "python3"
  },
  "language_info": {
   "codemirror_mode": {
    "name": "ipython",
    "version": 3
   },
   "file_extension": ".py",
   "mimetype": "text/x-python",
   "name": "python",
   "nbconvert_exporter": "python",
   "pygments_lexer": "ipython3",
   "version": "3.9.7"
  }
 },
 "nbformat": 4,
 "nbformat_minor": 5
}
